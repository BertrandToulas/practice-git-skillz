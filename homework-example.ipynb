{
 "cells": [
  {
   "source": [
    "# HOMEWORK EXAMPLE"
   ],
   "cell_type": "markdown",
   "metadata": {}
  },
  {
   "source": [
    "This is an example file for Git practice."
   ],
   "cell_type": "markdown",
   "metadata": {}
  }
 ],
 "metadata": {},
 "nbformat": 4,
 "nbformat_minor": 2
}